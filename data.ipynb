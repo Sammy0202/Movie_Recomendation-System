{
 "cells": [
  {
   "cell_type": "code",
   "execution_count": null,
   "metadata": {},
   "outputs": [],
   "source": [
    "import json\n",
    "import pandas as pd\n",
    "\n",
    "# Load dataset to a data frame\n",
    "data = pd.read_csv(r'./Data/movie_metadata.csv')\n",
    "\n",
    "# Drop rows with NaN values in the 'genres' column\n",
    "data = data.dropna(subset=['genres'])\n",
    "\n",
    "# Create a new data frame with relevant columns only\n",
    "df = data[['genres', 'movie_title', 'imdb_score', 'movie_imdb_link']].copy()\n",
    "\n",
    "# Fetch genres of all movies\n",
    "genres_all_movies = [df.loc[i]['genres'].split('|') for i in df.index]\n",
    "\n",
    "# Find the list of genres of all movies in alphabetical order\n",
    "genres = sorted(list(set([item for sublist in genres_all_movies for item in sublist])))\n",
    "\n",
    "# Initialize lists for movie data as well as titles\n",
    "full_data = list()\n",
    "movie_titles = list()\n",
    "\n",
    "# Iterate over the data frame\n",
    "for i in df.index:\n",
    "    # Append movie title and the index of the movie\n",
    "    movie_titles.append((df.loc[i]['movie_title'].strip(), i, df.loc[i]['movie_imdb_link'].strip()))\n",
    "    # Add list of genres of the movies (1/0) to movie data\n",
    "    movie_data = [1 if genre in df.loc[i]['genres'].split('|') else 0 for genre in genres]\n",
    "    # Add IMDb score of the movie to the movie data\n",
    "    movie_data.append(df.loc[i]['imdb_score'])\n",
    "    # Add record of movie to main data list\n",
    "    full_data.append(movie_data)\n",
    "\n",
    "# Create JSON files for data and movie titles for faster load to the Recommmender\n",
    "data_dump = r'./Data/data.json'\n",
    "titles_dump = r'./Data/titles.json'\n",
    "\n",
    "with open(data_dump, 'w+', encoding='utf-8') as f:\n",
    "    json.dump(full_data, f)\n",
    "\n",
    "with open(titles_dump, 'w+', encoding='utf-8') as f:\n",
    "    json.dump(movie_titles, f)\n"
   ]
  }
 ],
 "metadata": {
  "kernelspec": {
   "display_name": "Python 3",
   "language": "python",
   "name": "python3"
  },
  "language_info": {
   "codemirror_mode": {
    "name": "ipython",
    "version": 3
   },
   "file_extension": ".py",
   "mimetype": "text/x-python",
   "name": "python",
   "nbconvert_exporter": "python",
   "pygments_lexer": "ipython3",
   "version": "3.12.3"
  }
 },
 "nbformat": 4,
 "nbformat_minor": 2
}
